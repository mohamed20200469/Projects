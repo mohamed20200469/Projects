{
 "cells": [
  {
   "cell_type": "code",
   "execution_count": 89,
   "id": "4472c438",
   "metadata": {},
   "outputs": [],
   "source": [
    "import nltk as toolkit\n",
    "import string\n"
   ]
  },
  {
   "cell_type": "code",
   "execution_count": 98,
   "id": "2b474680",
   "metadata": {},
   "outputs": [],
   "source": [
    "paragraph = \"i am walking down the aisle\""
   ]
  },
  {
   "cell_type": "code",
   "execution_count": 99,
   "id": "1f1d9088",
   "metadata": {},
   "outputs": [],
   "source": [
    "# paragraph = paragraph.translate(str.maketrans('', '', string.punctuation))"
   ]
  },
  {
   "cell_type": "code",
   "execution_count": 100,
   "id": "d4b8b01b",
   "metadata": {},
   "outputs": [],
   "source": [
    "# tokenizer = toolkit.PunktSentenceTokenizer()\n",
    "# new = tokenizer.tokenize(paragraph)\n",
    "# new2 = [x.lower() for x in new]\n",
    "# print(new)"
   ]
  },
  {
   "cell_type": "code",
   "execution_count": 101,
   "id": "c5aca035",
   "metadata": {},
   "outputs": [
    {
     "name": "stdout",
     "output_type": "stream",
     "text": [
      "['i', 'am', 'walking', 'down', 'the', 'aisle']\n"
     ]
    }
   ],
   "source": [
    "tokenizer2 = toolkit.SpaceTokenizer()\n",
    "new = tokenizer2.tokenize(paragraph)\n",
    "print(new)"
   ]
  },
  {
   "cell_type": "code",
   "execution_count": 104,
   "metadata": {},
   "outputs": [
    {
     "name": "stdout",
     "output_type": "stream",
     "text": [
      "i am walk down the aisl \n"
     ]
    }
   ],
   "source": [
    "porter = toolkit.PorterStemmer()\n",
    "new2 = \"\"\n",
    "for x in new:\n",
    "    new2 += porter.stem(x) + \" \"\n",
    "\n",
    "print(new2)"
   ]
  },
  {
   "cell_type": "code",
   "execution_count": null,
   "id": "6b1b200a",
   "metadata": {},
   "outputs": [],
   "source": []
  }
 ],
 "metadata": {
  "kernelspec": {
   "display_name": "Python 3 (ipykernel)",
   "language": "python",
   "name": "python3"
  },
  "language_info": {
   "codemirror_mode": {
    "name": "ipython",
    "version": 3
   },
   "file_extension": ".py",
   "mimetype": "text/x-python",
   "name": "python",
   "nbconvert_exporter": "python",
   "pygments_lexer": "ipython3",
   "version": "3.10.1"
  }
 },
 "nbformat": 4,
 "nbformat_minor": 5
}

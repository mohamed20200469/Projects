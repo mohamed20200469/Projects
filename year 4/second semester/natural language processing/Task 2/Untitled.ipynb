{
 "cells": [
  {
   "cell_type": "code",
   "execution_count": 2,
   "id": "4472c438",
   "metadata": {},
   "outputs": [],
   "source": [
    "from nltk.corpus import wordnet as wn\n"
   ]
  },
  {
   "cell_type": "code",
   "execution_count": 7,
   "id": "34e64f09",
   "metadata": {},
   "outputs": [
    {
     "data": {
      "text/plain": [
       "[Synset('car.n.01')]"
      ]
     },
     "execution_count": 7,
     "metadata": {},
     "output_type": "execute_result"
    }
   ],
   "source": [
    "wn.synsets(\"motorcar\")"
   ]
  },
  {
   "cell_type": "code",
   "execution_count": 6,
   "id": "0143bc66",
   "metadata": {},
   "outputs": [
    {
     "name": "stderr",
     "output_type": "stream",
     "text": [
      "[nltk_data] Downloading package wordnet to\n",
      "[nltk_data]     C:\\Users\\Hp\\AppData\\Roaming\\nltk_data...\n"
     ]
    },
    {
     "data": {
      "text/plain": [
       "True"
      ]
     },
     "execution_count": 6,
     "metadata": {},
     "output_type": "execute_result"
    }
   ],
   "source": [
    "import nltk\n",
    "nltk.download('wordnet')\n"
   ]
  },
  {
   "cell_type": "code",
   "execution_count": 8,
   "id": "727e12f4",
   "metadata": {},
   "outputs": [
    {
     "data": {
      "text/plain": [
       "['car', 'auto', 'automobile', 'machine', 'motorcar']"
      ]
     },
     "execution_count": 8,
     "metadata": {},
     "output_type": "execute_result"
    }
   ],
   "source": [
    "wn.synsets(\"motorcar\")[0].lemma_names()"
   ]
  },
  {
   "cell_type": "code",
   "execution_count": 9,
   "id": "3f9f942f",
   "metadata": {},
   "outputs": [],
   "source": [
    "printer_synsets = wn.synsets(\"printer\")"
   ]
  },
  {
   "cell_type": "code",
   "execution_count": 10,
   "id": "4ece1205",
   "metadata": {},
   "outputs": [
    {
     "data": {
      "text/plain": [
       "[Synset('printer.n.01'), Synset('printer.n.02'), Synset('printer.n.03')]"
      ]
     },
     "execution_count": 10,
     "metadata": {},
     "output_type": "execute_result"
    }
   ],
   "source": [
    "printer_synsets"
   ]
  },
  {
   "cell_type": "code",
   "execution_count": 12,
   "id": "346e0245",
   "metadata": {},
   "outputs": [
    {
     "data": {
      "text/plain": [
       "['printer', 'pressman']"
      ]
     },
     "execution_count": 12,
     "metadata": {},
     "output_type": "execute_result"
    }
   ],
   "source": [
    "wn.synset('printer.n.01').lemma_names()"
   ]
  },
  {
   "cell_type": "code",
   "execution_count": 16,
   "id": "89b11244",
   "metadata": {},
   "outputs": [
    {
     "name": "stdout",
     "output_type": "stream",
     "text": [
      "printer.n.01 \n",
      "\n",
      "someone whose occupation is printing \n",
      "\n",
      "printer.n.02 \n",
      "\n",
      "(computer science) an output device that prints the results of data processing \n",
      "\n",
      "printer.n.03 \n",
      "\n",
      "a machine that prints \n",
      "\n"
     ]
    }
   ],
   "source": [
    "for synset in printer_synsets:\n",
    "    print(synset.name(),'\\n')\n",
    "    print(synset.definition(),\"\\n\")"
   ]
  },
  {
   "cell_type": "code",
   "execution_count": 17,
   "id": "e3413dd3",
   "metadata": {},
   "outputs": [],
   "source": [
    "car_synsets = wn.synsets(\"car\")"
   ]
  },
  {
   "cell_type": "code",
   "execution_count": 21,
   "id": "6a3e528b",
   "metadata": {},
   "outputs": [
    {
     "name": "stdout",
     "output_type": "stream",
     "text": [
      "car.n.01\n",
      "a motor vehicle with four wheels; usually propelled by an internal combustion engine\n",
      "['car', 'auto', 'automobile', 'machine', 'motorcar'] \n",
      "\n",
      "car.n.02\n",
      "a wheeled vehicle adapted to the rails of railroad\n",
      "['car', 'railcar', 'railway_car', 'railroad_car'] \n",
      "\n",
      "car.n.03\n",
      "the compartment that is suspended from an airship and that carries personnel and the cargo and the power plant\n",
      "['car', 'gondola'] \n",
      "\n",
      "car.n.04\n",
      "where passengers ride up and down\n",
      "['car', 'elevator_car'] \n",
      "\n",
      "cable_car.n.01\n",
      "a conveyance for passengers or freight on a cable railway\n",
      "['cable_car', 'car'] \n",
      "\n"
     ]
    }
   ],
   "source": [
    "for synset in car_synsets:\n",
    "    print(synset.name())\n",
    "    print(synset.definition())\n",
    "    print(synset.lemma_names(),'\\n')"
   ]
  },
  {
   "cell_type": "code",
   "execution_count": 22,
   "id": "8858a810",
   "metadata": {},
   "outputs": [
    {
     "data": {
      "text/plain": [
       "[Synset('ambulance.n.01'),\n",
       " Synset('beach_wagon.n.01'),\n",
       " Synset('bus.n.04'),\n",
       " Synset('cab.n.03'),\n",
       " Synset('compact.n.03'),\n",
       " Synset('convertible.n.01'),\n",
       " Synset('coupe.n.01'),\n",
       " Synset('cruiser.n.01'),\n",
       " Synset('electric.n.01'),\n",
       " Synset('gas_guzzler.n.01'),\n",
       " Synset('hardtop.n.01'),\n",
       " Synset('hatchback.n.01'),\n",
       " Synset('horseless_carriage.n.01'),\n",
       " Synset('hot_rod.n.01'),\n",
       " Synset('jeep.n.01'),\n",
       " Synset('limousine.n.01'),\n",
       " Synset('loaner.n.02'),\n",
       " Synset('minicar.n.01'),\n",
       " Synset('minivan.n.01'),\n",
       " Synset('model_t.n.01'),\n",
       " Synset('pace_car.n.01'),\n",
       " Synset('racer.n.02'),\n",
       " Synset('roadster.n.01'),\n",
       " Synset('sedan.n.01'),\n",
       " Synset('sport_utility.n.01'),\n",
       " Synset('sports_car.n.01'),\n",
       " Synset('stanley_steamer.n.01'),\n",
       " Synset('stock_car.n.01'),\n",
       " Synset('subcompact.n.01'),\n",
       " Synset('touring_car.n.01'),\n",
       " Synset('used-car.n.01')]"
      ]
     },
     "execution_count": 22,
     "metadata": {},
     "output_type": "execute_result"
    }
   ],
   "source": [
    "motorcar = wn.synset(\"car.n.01\")\n",
    "motorcar_types = motorcar.hyponyms()\n",
    "motorcar_types"
   ]
  },
  {
   "cell_type": "code",
   "execution_count": 23,
   "id": "1e965eb3",
   "metadata": {},
   "outputs": [
    {
     "name": "stdout",
     "output_type": "stream",
     "text": [
      "ambulance.n.01\n",
      "beach_wagon.n.01\n",
      "bus.n.04\n",
      "cab.n.03\n",
      "compact.n.03\n",
      "convertible.n.01\n",
      "coupe.n.01\n",
      "cruiser.n.01\n",
      "electric.n.01\n",
      "gas_guzzler.n.01\n",
      "hardtop.n.01\n",
      "hatchback.n.01\n",
      "horseless_carriage.n.01\n",
      "hot_rod.n.01\n",
      "jeep.n.01\n",
      "limousine.n.01\n",
      "loaner.n.02\n",
      "minicar.n.01\n",
      "minivan.n.01\n",
      "model_t.n.01\n",
      "pace_car.n.01\n",
      "racer.n.02\n",
      "roadster.n.01\n",
      "sedan.n.01\n",
      "sport_utility.n.01\n",
      "sports_car.n.01\n",
      "stanley_steamer.n.01\n",
      "stock_car.n.01\n",
      "subcompact.n.01\n",
      "touring_car.n.01\n",
      "used-car.n.01\n"
     ]
    }
   ],
   "source": [
    "for hyponym in motorcar_types:\n",
    "    print(hyponym.name())"
   ]
  },
  {
   "cell_type": "code",
   "execution_count": 24,
   "id": "dd63635c",
   "metadata": {},
   "outputs": [
    {
     "data": {
      "text/plain": [
       "[Synset('motor_vehicle.n.01')]"
      ]
     },
     "execution_count": 24,
     "metadata": {},
     "output_type": "execute_result"
    }
   ],
   "source": [
    "motorcar_parent = motorcar.hypernyms()\n",
    "motorcar_parent"
   ]
  },
  {
   "cell_type": "code",
   "execution_count": 26,
   "id": "8c6fc363",
   "metadata": {},
   "outputs": [
    {
     "data": {
      "text/plain": [
       "[[Synset('entity.n.01'),\n",
       "  Synset('physical_entity.n.01'),\n",
       "  Synset('object.n.01'),\n",
       "  Synset('whole.n.02'),\n",
       "  Synset('artifact.n.01'),\n",
       "  Synset('instrumentality.n.03'),\n",
       "  Synset('container.n.01'),\n",
       "  Synset('wheeled_vehicle.n.01'),\n",
       "  Synset('self-propelled_vehicle.n.01'),\n",
       "  Synset('motor_vehicle.n.01'),\n",
       "  Synset('car.n.01')],\n",
       " [Synset('entity.n.01'),\n",
       "  Synset('physical_entity.n.01'),\n",
       "  Synset('object.n.01'),\n",
       "  Synset('whole.n.02'),\n",
       "  Synset('artifact.n.01'),\n",
       "  Synset('instrumentality.n.03'),\n",
       "  Synset('conveyance.n.03'),\n",
       "  Synset('vehicle.n.01'),\n",
       "  Synset('wheeled_vehicle.n.01'),\n",
       "  Synset('self-propelled_vehicle.n.01'),\n",
       "  Synset('motor_vehicle.n.01'),\n",
       "  Synset('car.n.01')]]"
      ]
     },
     "execution_count": 26,
     "metadata": {},
     "output_type": "execute_result"
    }
   ],
   "source": [
    "motorcar_paths = motorcar.hypernym_paths()\n",
    "motorcar_paths"
   ]
  },
  {
   "cell_type": "code",
   "execution_count": 27,
   "id": "91ff0394",
   "metadata": {},
   "outputs": [
    {
     "data": {
      "text/plain": [
       "[Synset('accelerator.n.01'),\n",
       " Synset('air_bag.n.01'),\n",
       " Synset('auto_accessory.n.01'),\n",
       " Synset('automobile_engine.n.01'),\n",
       " Synset('automobile_horn.n.01'),\n",
       " Synset('buffer.n.06'),\n",
       " Synset('bumper.n.02'),\n",
       " Synset('car_door.n.01'),\n",
       " Synset('car_mirror.n.01'),\n",
       " Synset('car_seat.n.01'),\n",
       " Synset('car_window.n.01'),\n",
       " Synset('fender.n.01'),\n",
       " Synset('first_gear.n.01'),\n",
       " Synset('floorboard.n.02'),\n",
       " Synset('gasoline_engine.n.01'),\n",
       " Synset('glove_compartment.n.01'),\n",
       " Synset('grille.n.02'),\n",
       " Synset('high_gear.n.01'),\n",
       " Synset('hood.n.09'),\n",
       " Synset('luggage_compartment.n.01'),\n",
       " Synset('rear_window.n.01'),\n",
       " Synset('reverse.n.02'),\n",
       " Synset('roof.n.02'),\n",
       " Synset('running_board.n.01'),\n",
       " Synset('stabilizer_bar.n.01'),\n",
       " Synset('sunroof.n.01'),\n",
       " Synset('tail_fin.n.02'),\n",
       " Synset('third_gear.n.01'),\n",
       " Synset('window.n.02')]"
      ]
     },
     "execution_count": 27,
     "metadata": {},
     "output_type": "execute_result"
    }
   ],
   "source": [
    "motorcar_parts = motorcar.part_meronyms()\n",
    "motorcar_parts"
   ]
  },
  {
   "cell_type": "code",
   "execution_count": 31,
   "id": "c032b1bb",
   "metadata": {},
   "outputs": [
    {
     "data": {
      "text/plain": [
       "[Lemma('demand.n.02.demand')]"
      ]
     },
     "execution_count": 31,
     "metadata": {},
     "output_type": "execute_result"
    }
   ],
   "source": [
    "supply_lemma = wn.lemma(\"supply.n.02.supply\")\n",
    "supply_lemma.antonyms()"
   ]
  },
  {
   "cell_type": "code",
   "execution_count": 59,
   "id": "54872cd6",
   "metadata": {},
   "outputs": [
    {
     "name": "stdout",
     "output_type": "stream",
     "text": [
      "Synset('medical_practitioner.n.01')\n",
      "Synset('person.n.01')\n"
     ]
    }
   ],
   "source": [
    "string = \"doctor engineer\"\n",
    "tokenizer2 = nltk.SpaceTokenizer()\n",
    "new = tokenizer2.tokenize(string)\n",
    "for word in new:\n",
    "    list = wn.synsets(word)[0].hypernym_paths()\n",
    "    print(list[-1][-2])"
   ]
  },
  {
   "cell_type": "code",
   "execution_count": null,
   "id": "95d9aa29",
   "metadata": {},
   "outputs": [],
   "source": []
  },
  {
   "cell_type": "code",
   "execution_count": null,
   "id": "b844ff99",
   "metadata": {},
   "outputs": [],
   "source": []
  }
 ],
 "metadata": {
  "kernelspec": {
   "display_name": "Python 3 (ipykernel)",
   "language": "python",
   "name": "python3"
  },
  "language_info": {
   "codemirror_mode": {
    "name": "ipython",
    "version": 3
   },
   "file_extension": ".py",
   "mimetype": "text/x-python",
   "name": "python",
   "nbconvert_exporter": "python",
   "pygments_lexer": "ipython3",
   "version": "3.10.1"
  }
 },
 "nbformat": 4,
 "nbformat_minor": 5
}
